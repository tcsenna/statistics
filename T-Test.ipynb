{
 "cells": [
  {
   "cell_type": "markdown",
   "metadata": {},
   "source": [
    "## Practice Problem Set\n",
    "\n",
    "Let’s work through another example of a t-test problem.  A local movie theatre manager has been in trouble with her boss for not selling enough popcorn.  In order to increase revenue from popcorn sales, she decides to decrease the price of popcorn for two weeks to see if more people will purchase popcorn at the cheaper price, resulting in an overall higher sales result.  Her boss is skeptical, suggesting that the lower price will offset increased sales, and that there will be no significant differences in revenues before and after the discount.  The manager decides to collect data for two weeks before the discount and two weeks after to find out who is correct.  \n",
    "\n",
    "Let's analyze this problem statistically.  The null hypothesis, with which the boss would agree, states that **there is no significant difference in revenue from popcorn sales before and after the discount**.  The research hypothesis, which the manager is hoping is correct, is that **revenue will be significantly higher after the discount than before**. Let’s find out who is right!  The data below show how many thousands of dollars worth of popcorn were sold each day for the two weeks before and two weeks after the discount began.  (For example, on the first day after the discount, the 8.0 indicates that 8000 USD worth of popcorn was sold, and the 6.2 on the second day after the discount indicates that 6200 USD worth of popcorn was sold)."
   ]
  },
  {
   "cell_type": "code",
   "execution_count": 69,
   "metadata": {},
   "outputs": [],
   "source": [
    "import pandas as pd\n",
    "import numpy as np"
   ]
  },
  {
   "cell_type": "code",
   "execution_count": 70,
   "metadata": {},
   "outputs": [
    {
     "data": {
      "text/html": [
       "<div>\n",
       "<table border=\"1\" class=\"dataframe\">\n",
       "  <thead>\n",
       "    <tr style=\"text-align: right;\">\n",
       "      <th></th>\n",
       "      <th>before</th>\n",
       "      <th>after</th>\n",
       "    </tr>\n",
       "  </thead>\n",
       "  <tbody>\n",
       "    <tr>\n",
       "      <th>0</th>\n",
       "      <td>4.2</td>\n",
       "      <td>8.0</td>\n",
       "    </tr>\n",
       "    <tr>\n",
       "      <th>1</th>\n",
       "      <td>7.7</td>\n",
       "      <td>6.2</td>\n",
       "    </tr>\n",
       "    <tr>\n",
       "      <th>2</th>\n",
       "      <td>3.3</td>\n",
       "      <td>4.1</td>\n",
       "    </tr>\n",
       "    <tr>\n",
       "      <th>3</th>\n",
       "      <td>4.7</td>\n",
       "      <td>7.3</td>\n",
       "    </tr>\n",
       "  </tbody>\n",
       "</table>\n",
       "</div>"
      ],
      "text/plain": [
       "   before  after\n",
       "0     4.2    8.0\n",
       "1     7.7    6.2\n",
       "2     3.3    4.1\n",
       "3     4.7    7.3"
      ]
     },
     "execution_count": 70,
     "metadata": {},
     "output_type": "execute_result"
    }
   ],
   "source": [
    "df = pd.read_excel('pipoca.xlsx')\n",
    "df.head(4)"
   ]
  },
  {
   "cell_type": "code",
   "execution_count": 71,
   "metadata": {},
   "outputs": [],
   "source": [
    "mean_bef=np.mean(df.iloc[:,0])\n",
    "mean_aft=np.mean(df.iloc[:,1])\n",
    "df['mean_bef']=mean_bef\n",
    "df['mean_aft']=mean_aft"
   ]
  },
  {
   "cell_type": "code",
   "execution_count": 72,
   "metadata": {},
   "outputs": [
    {
     "data": {
      "text/html": [
       "<div>\n",
       "<table border=\"1\" class=\"dataframe\">\n",
       "  <thead>\n",
       "    <tr style=\"text-align: right;\">\n",
       "      <th></th>\n",
       "      <th>before</th>\n",
       "      <th>after</th>\n",
       "      <th>mean_bef</th>\n",
       "      <th>mean_aft</th>\n",
       "    </tr>\n",
       "  </thead>\n",
       "  <tbody>\n",
       "    <tr>\n",
       "      <th>0</th>\n",
       "      <td>4.2</td>\n",
       "      <td>8.0</td>\n",
       "      <td>5.292857</td>\n",
       "      <td>6.807143</td>\n",
       "    </tr>\n",
       "    <tr>\n",
       "      <th>1</th>\n",
       "      <td>7.7</td>\n",
       "      <td>6.2</td>\n",
       "      <td>5.292857</td>\n",
       "      <td>6.807143</td>\n",
       "    </tr>\n",
       "  </tbody>\n",
       "</table>\n",
       "</div>"
      ],
      "text/plain": [
       "   before  after  mean_bef  mean_aft\n",
       "0     4.2    8.0  5.292857  6.807143\n",
       "1     7.7    6.2  5.292857  6.807143"
      ]
     },
     "execution_count": 72,
     "metadata": {},
     "output_type": "execute_result"
    }
   ],
   "source": [
    "df.head(2)"
   ]
  },
  {
   "cell_type": "code",
   "execution_count": 73,
   "metadata": {},
   "outputs": [],
   "source": [
    "df['sqr_dev0']=(df.before-df.mean_bef)**2\n",
    "df['sqr_dev1']=(df.after-df.mean_aft)**2"
   ]
  },
  {
   "cell_type": "code",
   "execution_count": 74,
   "metadata": {},
   "outputs": [
    {
     "data": {
      "text/html": [
       "<div>\n",
       "<table border=\"1\" class=\"dataframe\">\n",
       "  <thead>\n",
       "    <tr style=\"text-align: right;\">\n",
       "      <th></th>\n",
       "      <th>before</th>\n",
       "      <th>after</th>\n",
       "      <th>mean_bef</th>\n",
       "      <th>mean_aft</th>\n",
       "      <th>sqr_dev0</th>\n",
       "      <th>sqr_dev1</th>\n",
       "    </tr>\n",
       "  </thead>\n",
       "  <tbody>\n",
       "    <tr>\n",
       "      <th>0</th>\n",
       "      <td>4.2</td>\n",
       "      <td>8.0</td>\n",
       "      <td>5.292857</td>\n",
       "      <td>6.807143</td>\n",
       "      <td>1.194337</td>\n",
       "      <td>1.422908</td>\n",
       "    </tr>\n",
       "    <tr>\n",
       "      <th>1</th>\n",
       "      <td>7.7</td>\n",
       "      <td>6.2</td>\n",
       "      <td>5.292857</td>\n",
       "      <td>6.807143</td>\n",
       "      <td>5.794337</td>\n",
       "      <td>0.368622</td>\n",
       "    </tr>\n",
       "  </tbody>\n",
       "</table>\n",
       "</div>"
      ],
      "text/plain": [
       "   before  after  mean_bef  mean_aft  sqr_dev0  sqr_dev1\n",
       "0     4.2    8.0  5.292857  6.807143  1.194337  1.422908\n",
       "1     7.7    6.2  5.292857  6.807143  5.794337  0.368622"
      ]
     },
     "execution_count": 74,
     "metadata": {},
     "output_type": "execute_result"
    }
   ],
   "source": [
    "df.head(2)"
   ]
  },
  {
   "cell_type": "code",
   "execution_count": 75,
   "metadata": {},
   "outputs": [],
   "source": [
    "s_bef=np.sqrt(round(df.sqr_dev0.sum(),2)/len(df.index)) #standard deviation before\n",
    "s_aft=np.sqrt(round(df.sqr_dev1.sum(),2)/len(df.index)) #standard deviation before"
   ]
  },
  {
   "cell_type": "code",
   "execution_count": 76,
   "metadata": {},
   "outputs": [
    {
     "data": {
      "text/plain": [
       "1.4200100603265358"
      ]
     },
     "execution_count": 76,
     "metadata": {},
     "output_type": "execute_result"
    }
   ],
   "source": [
    "s_bef"
   ]
  },
  {
   "cell_type": "code",
   "execution_count": 77,
   "metadata": {},
   "outputs": [
    {
     "data": {
      "text/plain": [
       "1.4964243095745653"
      ]
     },
     "execution_count": 77,
     "metadata": {},
     "output_type": "execute_result"
    }
   ],
   "source": [
    "s_aft"
   ]
  },
  {
   "cell_type": "code",
   "execution_count": 78,
   "metadata": {},
   "outputs": [
    {
     "data": {
      "text/plain": [
       "14"
      ]
     },
     "execution_count": 78,
     "metadata": {},
     "output_type": "execute_result"
    }
   ],
   "source": [
    "len(df.index)"
   ]
  },
  {
   "cell_type": "code",
   "execution_count": 79,
   "metadata": {},
   "outputs": [],
   "source": [
    "from scipy.stats import ttest_ind\n",
    "from scipy.stats import t\n",
    "from scipy.stats import sem"
   ]
  },
  {
   "cell_type": "code",
   "execution_count": 80,
   "metadata": {},
   "outputs": [
    {
     "name": "stdout",
     "output_type": "stream",
     "text": [
      "t=-2.647, p=0.014\n"
     ]
    }
   ],
   "source": [
    "stat, p = ttest_ind(df.before,df.after)\n",
    "print('t=%.3f, p=%.3f' % (stat, p))"
   ]
  },
  {
   "cell_type": "code",
   "execution_count": 82,
   "metadata": {},
   "outputs": [
    {
     "name": "stdout",
     "output_type": "stream",
     "text": [
      "1.70561791976\n",
      "0.95\n"
     ]
    }
   ],
   "source": [
    "from scipy.stats import t\n",
    "# define probability\n",
    "p = 0.95\n",
    "dof = 26\n",
    "# retrieve value <= probability\n",
    "value = t.ppf(p, dof)\n",
    "print(value)\n",
    "# confirm with cdf\n",
    "p = t.cdf(value, dof)\n",
    "print(p)"
   ]
  },
  {
   "cell_type": "code",
   "execution_count": 85,
   "metadata": {},
   "outputs": [],
   "source": [
    "# calculate standard errors\n",
    "se0, se1 = sem(df.before.values), sem(df.after.values)\n",
    "# standard error on the difference between the samples\n",
    "sed = np.sqrt(se0**2.0 + se1**2.0)"
   ]
  },
  {
   "cell_type": "code",
   "execution_count": 118,
   "metadata": {},
   "outputs": [
    {
     "data": {
      "text/plain": [
       "1.4199920954077203"
      ]
     },
     "execution_count": 118,
     "metadata": {},
     "output_type": "execute_result"
    }
   ],
   "source": [
    "np.std(df.before)"
   ]
  },
  {
   "cell_type": "code",
   "execution_count": 119,
   "metadata": {},
   "outputs": [
    {
     "data": {
      "text/plain": [
       "0.39383494698046834"
      ]
     },
     "execution_count": 119,
     "metadata": {},
     "output_type": "execute_result"
    }
   ],
   "source": [
    "se0"
   ]
  },
  {
   "cell_type": "code",
   "execution_count": 49,
   "metadata": {},
   "outputs": [],
   "source": [
    "sem?"
   ]
  },
  {
   "cell_type": "code",
   "execution_count": 83,
   "metadata": {},
   "outputs": [
    {
     "data": {
      "text/plain": [
       "array([ 4.2,  7.7,  3.3,  4.7,  4.9,  5.1,  6.8,  4.7,  3.3,  7. ,  5.1,\n",
       "        5.9,  7.5,  3.9])"
      ]
     },
     "execution_count": 83,
     "metadata": {},
     "output_type": "execute_result"
    }
   ],
   "source": [
    "df.before.values"
   ]
  },
  {
   "cell_type": "markdown",
   "metadata": {},
   "source": [
    "Achamos um t= -2.647 que, em valor absoluto, supera o valor de t crítico. Assim, podemos rejeitar a hipótese-nula, de que a receita não vai variar com a concessão do desconto."
   ]
  },
  {
   "cell_type": "markdown",
   "metadata": {},
   "source": [
    "### Homework A\n",
    "\n",
    "Problem Set-up and Data  \n",
    "\n",
    "At work, you manage two projects. Both projects will be expanding over the next year, so your boss is going to hire someone to help you out by taking over all of the communication tasks for one of the projects. To determine how your new colleague can be of most help to you, you need to determine which project has the greater communication burden.\n",
    "\n",
    "To do this, you look back through your email Inbox for the past two weeks and count up the number of emails you’ve received for each project. Your plan is to compare the data for each project to determine if you receive significantly more emails regarding one project than the other.\n",
    "\n",
    "Your **null hypothesis is that there is no significant difference in the number of emails that you receive by project**. Your **research hypothesis is that the number of emails that you receive varies significantly by project**."
   ]
  },
  {
   "cell_type": "code",
   "execution_count": 121,
   "metadata": {},
   "outputs": [
    {
     "data": {
      "text/html": [
       "<div>\n",
       "<table border=\"1\" class=\"dataframe\">\n",
       "  <thead>\n",
       "    <tr style=\"text-align: right;\">\n",
       "      <th></th>\n",
       "      <th>Project A</th>\n",
       "      <th>Project B</th>\n",
       "    </tr>\n",
       "  </thead>\n",
       "  <tbody>\n",
       "    <tr>\n",
       "      <th>0</th>\n",
       "      <td>17</td>\n",
       "      <td>28</td>\n",
       "    </tr>\n",
       "    <tr>\n",
       "      <th>1</th>\n",
       "      <td>24</td>\n",
       "      <td>30</td>\n",
       "    </tr>\n",
       "    <tr>\n",
       "      <th>2</th>\n",
       "      <td>23</td>\n",
       "      <td>32</td>\n",
       "    </tr>\n",
       "  </tbody>\n",
       "</table>\n",
       "</div>"
      ],
      "text/plain": [
       "   Project A  Project B\n",
       "0         17         28\n",
       "1         24         30\n",
       "2         23         32"
      ]
     },
     "execution_count": 121,
     "metadata": {},
     "output_type": "execute_result"
    }
   ],
   "source": [
    "hwa=pd.read_excel('hwa.xlsx')\n",
    "hwa.head(3)"
   ]
  },
  {
   "cell_type": "code",
   "execution_count": 122,
   "metadata": {},
   "outputs": [
    {
     "data": {
      "text/plain": [
       "3.1320919526731648"
      ]
     },
     "execution_count": 122,
     "metadata": {},
     "output_type": "execute_result"
    }
   ],
   "source": [
    "hwa.columns=['a','b']\n",
    "hwa.head(3)\n",
    "sta=np.std(hwa.a.values)\n",
    "sta"
   ]
  },
  {
   "cell_type": "code",
   "execution_count": 123,
   "metadata": {},
   "outputs": [
    {
     "name": "stdout",
     "output_type": "stream",
     "text": [
      "t=-2.026, p=0.058\n"
     ]
    }
   ],
   "source": [
    "stat, p = ttest_ind(hwa.a,hwa.b)\n",
    "print('t=%.3f, p=%.3f' % (stat, p))"
   ]
  },
  {
   "cell_type": "markdown",
   "metadata": {},
   "source": [
    "When we calculate alpha for two-tail we divide it, so alpha = 0.05 means p=0.025 and 0.975,\n",
    "So your probability is between both ends of the distribution:"
   ]
  },
  {
   "cell_type": "code",
   "execution_count": 136,
   "metadata": {},
   "outputs": [
    {
     "name": "stdout",
     "output_type": "stream",
     "text": [
      "-2.10092204024\n",
      "0.025\n"
     ]
    }
   ],
   "source": [
    "# define probability\n",
    "p = 0.05/2 #\n",
    "dof = (10-1)+(10-1)\n",
    "# retrieve value <= probability\n",
    "value = t.ppf(0.025, dof)\n",
    "print(value)\n",
    "# confirm with cdf\n",
    "p = t.cdf(value, dof) \n",
    "print(p)"
   ]
  },
  {
   "cell_type": "code",
   "execution_count": 132,
   "metadata": {},
   "outputs": [],
   "source": [
    "# calculate standard errors\n",
    "sea, seb = sem(hwa.a.values), sem(hwa.b.values)\n",
    "# standard error on the difference between the samples\n",
    "sed = np.sqrt(sea**2.0 + seb**2.0)"
   ]
  },
  {
   "cell_type": "code",
   "execution_count": 133,
   "metadata": {},
   "outputs": [
    {
     "name": "stdout",
     "output_type": "stream",
     "text": [
      "1.04403065089 2.34497097826 2.56688310776\n"
     ]
    }
   ],
   "source": [
    "print(sea,seb,sed)"
   ]
  },
  {
   "cell_type": "markdown",
   "metadata": {},
   "source": [
    "#### Calculado: t=-2.026 Critical t value: 2.101 . Como o calculado nao superou o critico, nao podemos rejeitar null hypothesis!"
   ]
  }
 ],
 "metadata": {
  "anaconda-cloud": {},
  "kernelspec": {
   "display_name": "Python [conda env:anaconda3]",
   "language": "python",
   "name": "conda-env-anaconda3-py"
  },
  "language_info": {
   "codemirror_mode": {
    "name": "ipython",
    "version": 3
   },
   "file_extension": ".py",
   "mimetype": "text/x-python",
   "name": "python",
   "nbconvert_exporter": "python",
   "pygments_lexer": "ipython3",
   "version": "3.5.6"
  }
 },
 "nbformat": 4,
 "nbformat_minor": 1
}
