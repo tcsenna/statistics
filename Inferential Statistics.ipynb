{
 "cells": [
  {
   "cell_type": "markdown",
   "metadata": {},
   "source": [
    "### Inferential Statistics\n",
    "Thonia Senna  \n",
    "#### Theoretical questions  \n",
    "#### Question 1: I want you to construct a hypothesis for two nominal level variables.  \n",
    "- All right, well a nominal level variable would be your gender and also another would be your favorite type of film. So the hypothesis would be that your favorite type of film depends on your gender. So, gender is the independent variable and the type of film is the dependent variable.  \n",
    "#### Question 2: I want you to construct a hypothesis between two ordinal level variables.  \n",
    "- The first could be support for political candidates. So actively support, strongly support, moderately support, neither support nor oppose, moderately oppose and strongly oppose. And the second ordinal variable could be how active someone is in politics. So, very active, somewhat active, not very active, not active at all. So then, the hypothesis would be that the more politically active a person is, the more likely she is to support this particular candidate.\n",
    "#### Question 3: Now I want you to construct a hypothesis between a nominal level variable, and an interval level variable.\n",
    "- The nominal level could be race and the interval, a racial level variable could be number of hours you spend on housework. So, a two-tailed hypothesis would say that the number of hours a person spends on housework depends on their race.\n",
    "#### Question 4: Now, I want you to construct the hypothesis between two variables, both of which are at the interval or ratio level.\n",
    "- Okay, so one variable could be the amount of money you spend on clothes. And the other could be amount of closet space you have in your house. So, I could say that the amount of money that you spend in clothes on, in dollars, depends on closet space. Now, so, to make it the one-tail test, I could say that the more closet space you have, the more money you'll spend on your clothes.\n",
    "#### Question 5: The amount of money that you spend when you go to the grocery store and the number of kids that you take with you to the grocery story, I want you to tell me what the null hypothesis is.  \n",
    "- The null hypothesis would say that there is no significant difference in the amount of grocery money spent and the number of children brought to the store. So the dependent variable is the amount of money you spend on groceries, and the independent variable is the number of children you bring. So a one-tailed hypothesis might say, that the more children you bring, the more money you spend on groceries.\n",
    "#### Question 6: two-tailed hypothesis \n",
    "- The relationship between race and dog ownership. Would say that there is a signficant difference between race groups on if they own a dog or not, but we're not gonna predict which race is more or less likely to own a dog.  If we find that there is no relationship between race and dog ownership, that tells us that neither blacks, nor whites, nor Asians are more likely than any other group to own a dog. That means we would *fail to reject the null hypothesis* telling us that any differences we might find in the data are really not significant.\n"
   ]
  },
  {
   "cell_type": "markdown",
   "metadata": {},
   "source": [
    "1- Writing hypotheses.\n",
    "2- Calculating a test statistic.  \n",
    "We have three main formulas that we use **when we're testing significance**. We have a T formula, a chi square formula, and an F formula.\n",
    "#### We're gonna find the critical value from a table, because we have three different tests, chi square, T, and ANOVA, or ANOVA is also called F.\n",
    "Seja sua tabela chi quadrado, T ou anova, vc tem que avalias 2 elementos: df (degrees of freedom) e significance level. Nessas aulas usaremos .05 como significance level.Não vai mudar nesse curso e na maior parte das estatísticas da nossa vida.\n",
    "- Okay, so the one funky thing about the ANOVA table, or the F table, is we don't even have to look up the right significance level. **ANOVA TEM TABELAS SEPARADAS PARA CADA SIGNIFICANCE LEVEL**.\n",
    "because there are two degrees of freedom.\n",
    "So if you had a column for degrees of freedom and a row for degrees of freedom,\n",
    "and then you also had to have a separate section for each degrees of,\n",
    "each significance level, this table would quickly become three-dimensional,"
   ]
  }
 ],
 "metadata": {
  "kernelspec": {
   "display_name": "Python 3",
   "language": "python",
   "name": "python3"
  },
  "language_info": {
   "codemirror_mode": {
    "name": "ipython",
    "version": 3
   },
   "file_extension": ".py",
   "mimetype": "text/x-python",
   "name": "python",
   "nbconvert_exporter": "python",
   "pygments_lexer": "ipython3",
   "version": "3.7.3"
  }
 },
 "nbformat": 4,
 "nbformat_minor": 2
}
